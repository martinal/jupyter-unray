{
 "cells": [
  {
   "cell_type": "code",
   "execution_count": null,
   "metadata": {},
   "outputs": [],
   "source": [
    "import numpy as np\n",
    "import ipywidgets as widgets\n",
    "from ipywidgets import VBox, HBox\n",
    "import pythreejs as three\n",
    "import unray as ur\n",
    "\n",
    "def setup_renderer(group, *,\n",
    "                   scale=1.0, camera_direction=(1, 1, 1), light_direction=(0, 1, 1),\n",
    "                   width=800, height=600, background='#eeeeee'):\n",
    "    \"Helper function to setup a basic pythreejs renderer and scene, adding given group to it.\"\n",
    "    camera_position = tuple(map(lambda x: x*scale, camera_direction))\n",
    "    light_position = tuple(map(lambda x: x*scale, light_direction))\n",
    "    camera = three.PerspectiveCamera(\n",
    "        position=camera_position,\n",
    "        aspect=width/height\n",
    "    )\n",
    "    key_light = three.DirectionalLight(position=light_position)\n",
    "    ambient = three.AmbientLight(intensity=0.5)\n",
    "    scene = three.Scene(children=[key_light, ambient, camera, group], background=background)\n",
    "    controls = three.OrbitControls(camera)\n",
    "    renderer = three.Renderer(scene, camera, [controls],\n",
    "                              width=width, height=height)\n",
    "    return renderer\n",
    "\n",
    "def display_plots(*plots, **kwargs):\n",
    "    \"Display all plots in a single renderer. Returns renderer.\"\n",
    "    group = three.Group()\n",
    "    for plot in plots:\n",
    "        group.add(plot)\n",
    "    renderer = setup_renderer(group, **kwargs)\n",
    "    return renderer\n",
    "\n",
    "def single_tetrahedron():\n",
    "    cells = np.zeros((1, 4), dtype=\"int32\")\n",
    "    coordinates = np.zeros((4, 3), dtype=\"float32\")\n",
    "    cells[0, :] = [0, 1, 2, 3]\n",
    "    coordinates[0, :] = [0, 0, 0]\n",
    "    coordinates[1, :] = [1, 0, 0]\n",
    "    coordinates[2, :] = [0, 1, 0]\n",
    "    coordinates[3, :] = [0, 0, 1]\n",
    "    values = np.zeros(4, dtype=\"float32\")\n",
    "    values[:] = [1, 3, 2, -1]\n",
    "    return cells, coordinates, values\n",
    "\n",
    "cells_array, points_array, function_array = single_tetrahedron()\n",
    "mesh = ur.Mesh(cells=cells_array, points=points_array)\n",
    "field = ur.Field(mesh=mesh, values=function_array)\n",
    "scale = max(*[points_array[:,i].max() - points_array[:,i].min() for i in (0,1,2)])\n",
    "fmin = field.values.min()\n",
    "fmax = field.values.max()\n",
    "favg = 0.5 * (fmin + fmax)\n",
    "fdiff = fmax - fmin\n",
    "lut = ur.ArrayColorLUT(values=[[1,0,0], [0,1,1]])\n",
    "color = ur.ColorField(field=field, lut=lut)"
   ]
  },
  {
   "cell_type": "code",
   "execution_count": null,
   "metadata": {},
   "outputs": [],
   "source": [
    "params = ur.IsovalueParams(value=favg, spacing=0.1*fdiff, mode=\"linear\")\n",
    "plot = ur.IsosurfacePlot(mesh=mesh, color=color, values=params)"
   ]
  },
  {
   "cell_type": "code",
   "execution_count": null,
   "metadata": {},
   "outputs": [],
   "source": [
    "renderer = display_plots(plot, scale=scale)\n",
    "renderer"
   ]
  },
  {
   "cell_type": "code",
   "execution_count": null,
   "metadata": {},
   "outputs": [],
   "source": [
    "db = plot.dashboard()\n",
    "db"
   ]
  },
  {
   "cell_type": "code",
   "execution_count": null,
   "metadata": {},
   "outputs": [],
   "source": [
    "slider = widgets.FloatSlider(value=favg, min=fmin, max=fmax, description=\"Value\")\n",
    "widgets.jslink((slider, \"value\"), (params, \"value\"))\n",
    "slider"
   ]
  },
  {
   "cell_type": "code",
   "execution_count": null,
   "metadata": {},
   "outputs": [],
   "source": []
  }
 ],
 "metadata": {
  "kernelspec": {
   "display_name": "Python 3",
   "language": "python",
   "name": "python3"
  },
  "language_info": {
   "codemirror_mode": {
    "name": "ipython",
    "version": 3
   },
   "file_extension": ".py",
   "mimetype": "text/x-python",
   "name": "python",
   "nbconvert_exporter": "python",
   "pygments_lexer": "ipython3",
   "version": "3.5.2"
  }
 },
 "nbformat": 4,
 "nbformat_minor": 2
}
