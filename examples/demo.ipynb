{
 "cells": [
  {
   "cell_type": "markdown",
   "metadata": {},
   "source": [
    "# Demonstration"
   ]
  },
  {
   "cell_type": "markdown",
   "metadata": {},
   "source": [
    "## Importing dependencies"
   ]
  },
  {
   "cell_type": "code",
   "execution_count": null,
   "metadata": {},
   "outputs": [],
   "source": [
    "# We'll use numpy for representing raw arrays\n",
    "import numpy as np\n",
    "\n",
    "# ipywidgets is the framework for handling GUI elements\n",
    "# and communication between the python and browser context\n",
    "import ipywidgets as widgets\n",
    "from ipywidgets import VBox, HBox\n",
    "\n",
    "# pythreejs provides a scenegraph by mirroring\n",
    "# three.js objects as ipywidgets\n",
    "import pythreejs as three\n",
    "\n",
    "# Finally the unray library\n",
    "import unray as ur"
   ]
  },
  {
   "cell_type": "markdown",
   "metadata": {},
   "source": [
    "### Some helper functions\n",
    "Setting up a scene with pythreejs involves some boilerplate code. These helper functions simplify a bit.\n",
    "They will be replaced with utilities from the threeplot library when it becomes available."
   ]
  },
  {
   "cell_type": "code",
   "execution_count": null,
   "metadata": {},
   "outputs": [],
   "source": [
    "def setup_renderer(group, *,\n",
    "                   scale=1.0, camera_direction=(1, 1, 1), light_direction=(0, 1, 1),\n",
    "                   width=800, height=600, background='#eeeeee'):\n",
    "    \"Helper function to setup a basic pythreejs renderer and scene, adding given group to it.\"\n",
    "    camera_position = tuple(map(lambda x: x*scale, camera_direction))\n",
    "    light_position = tuple(map(lambda x: x*scale, light_direction))\n",
    "    camera = three.PerspectiveCamera(\n",
    "        position=camera_position,\n",
    "        aspect=width/height\n",
    "    )\n",
    "    key_light = three.DirectionalLight(position=light_position)\n",
    "    ambient = three.AmbientLight(intensity=0.5)\n",
    "    scene = three.Scene(\n",
    "        children=[key_light, ambient, camera, group],\n",
    "        background=background)\n",
    "    controls = three.OrbitControls(camera)\n",
    "    renderer = three.Renderer(scene, camera, [controls],\n",
    "                              width=width, height=height)\n",
    "    return renderer\n",
    "\n",
    "def display_plots(*plots, **kwargs):\n",
    "    \"Display all plots in a single renderer. Returns renderer.\"\n",
    "    group = three.Group()\n",
    "    for plot in plots:\n",
    "        group.add(plot)\n",
    "    renderer = setup_renderer(group, **kwargs)\n",
    "    return renderer"
   ]
  },
  {
   "cell_type": "markdown",
   "metadata": {},
   "source": [
    "## Setup some data for testing\n",
    "All unray plots need a mesh in the form of vertex coordinates in a M x 3 points array and vertex indices for each tetrahedron in a N x 4 cells array. Data for continuous piecewise linear functions is passed as length M arrays. (Discontinuous DP1 or P0 functions are not yet supported.)"
   ]
  },
  {
   "cell_type": "code",
   "execution_count": null,
   "metadata": {},
   "outputs": [],
   "source": [
    "def single_tetrahedron():\n",
    "    cells = np.zeros((1, 4), dtype=\"int32\")\n",
    "    coordinates = np.zeros((4, 3), dtype=\"float32\")\n",
    "    cells[0, :] = [0, 1, 2, 3]\n",
    "    coordinates[0, :] = [0, 0, 0]\n",
    "    coordinates[1, :] = [1, 0, 0]\n",
    "    coordinates[2, :] = [0, 1, 0]\n",
    "    coordinates[3, :] = [0, 0, 1]\n",
    "    values = np.zeros(4, dtype=\"float32\")\n",
    "    values[:] = [1, 3, 2, -1]\n",
    "    return cells, coordinates, values\n",
    "\n",
    "def load_data(filename):\n",
    "    mesh_data = np.load(filename)\n",
    "    cells_array = mesh_data[\"cells\"].astype(np.int32)\n",
    "    points_array = mesh_data[\"points\"].astype(np.float32)\n",
    "    return cells_array, points_array\n",
    "\n",
    "def compute_example_function(points_array):\n",
    "    # Coordinates of all vertices in mesh\n",
    "    x = list(points_array.T)  # x[2] = z coordinate array for all vertices\n",
    "\n",
    "    # Model center 3d vector\n",
    "    center = list(map(lambda x: x.mean(), x))\n",
    "\n",
    "    # Coordinates with origo shifted to center of model\n",
    "    xm = list(map(lambda x, mp: x - mp, x, center))\n",
    "\n",
    "    # Distance from model center\n",
    "    xd = np.sqrt(sum(map(lambda x: x**2, xm)))\n",
    "    radius = xd.max()\n",
    "\n",
    "    # A wave pattern from the center of the model\n",
    "    freq = 4\n",
    "    func_wave = 2.0 + np.sin((freq * 2 * np.pi / radius) * xd)\n",
    "\n",
    "    return func_wave\n",
    "\n",
    "# Example data\n",
    "#filename = None\n",
    "filename = \"../data/heart.npz\"\n",
    "#filename = \"../data/brain.npz\"\n",
    "#filename = \"../data/aneurysm.npz\"\n",
    "\n",
    "if filename:\n",
    "    cells_array, points_array = load_data(filename)\n",
    "    function_array = compute_example_function(points_array)\n",
    "else:\n",
    "    # Single tetrahedron example\n",
    "    cells_array, points_array, function_array = single_tetrahedron()"
   ]
  },
  {
   "cell_type": "markdown",
   "metadata": {},
   "source": [
    "## Efficiency and memory usage\n",
    "The unray API can in many places take pure numpy arrays with data. To save memory and network traffic (copying between the python and browser context), it is highly recommended to create data objects wrapping the numpy arrays\n",
    "before setting up the plot objects. This will allow sharing data between plot objects on the browser side and simultaneous updating of fields across multiple plots."
   ]
  },
  {
   "cell_type": "code",
   "execution_count": null,
   "metadata": {},
   "outputs": [],
   "source": [
    "# Define a reusable Mesh object from the arrays with cell and point data\n",
    "mesh = ur.Mesh(cells=cells_array, points=points_array)\n",
    "\n",
    "# Define a reusable Field object over the mesh with values in mesh vertices\n",
    "field = ur.Field(mesh=mesh, values=function_array)\n",
    "\n",
    "# Mesh diameter, used for positioning below\n",
    "scale = max(*[points_array[:,i].max() - points_array[:,i].min() for i in (0,1,2)])"
   ]
  },
  {
   "cell_type": "markdown",
   "metadata": {},
   "source": [
    "## Surface plot\n",
    "The surface plot draws the facets of the mesh as solid opaque surfaces.\n",
    "It can display just the mesh, be configured with wireframe parameters,\n",
    "or show a scalar field mapped to colors on its surface.\n",
    "All plot objects support restriction to cells."
   ]
  },
  {
   "cell_type": "code",
   "execution_count": null,
   "metadata": {},
   "outputs": [],
   "source": [
    "# Display just the mesh\n",
    "plot = ur.SurfacePlot(mesh=mesh)\n",
    "display_plots(plot, scale=scale)"
   ]
  },
  {
   "cell_type": "code",
   "execution_count": null,
   "metadata": {},
   "outputs": [],
   "source": [
    "# Enable wireframe\n",
    "wp = ur.WireframeParams(enable=True)\n",
    "plot = ur.SurfacePlot(mesh=mesh, wireframe=wp)\n",
    "display_plots(plot, scale=scale)"
   ]
  },
  {
   "cell_type": "code",
   "execution_count": null,
   "metadata": {},
   "outputs": [],
   "source": [
    "# Configure colors of surface and wireframe\n",
    "wp = ur.WireframeParams(enable=True, color=\"#0000ff\")\n",
    "color = ur.ColorConstant(color=\"#ff8888\")\n",
    "plot = ur.SurfacePlot(mesh=mesh, color=color, wireframe=wp)\n",
    "VBox([display_plots(plot, scale=scale), plot.dashboard()])"
   ]
  },
  {
   "cell_type": "code",
   "execution_count": null,
   "metadata": {},
   "outputs": [],
   "source": [
    "# Map a scalar field to the default colormap\n",
    "color = ur.ColorField(field=field)\n",
    "plot = ur.SurfacePlot(mesh=mesh, color=color)\n",
    "display_plots(plot, scale=scale)"
   ]
  },
  {
   "cell_type": "code",
   "execution_count": null,
   "metadata": {},
   "outputs": [],
   "source": [
    "# Specify color lookup table as an array of rgb triplets\n",
    "lut = ur.ArrayColorMap(values=[[0.2, 0, 0], [1.0, 0, 0]])\n",
    "color = ur.ColorField(field=field, lut=lut)\n",
    "wp = ur.WireframeParams(enable=True, color=\"#00aaaa\", opacity=0.1)\n",
    "plot = ur.SurfacePlot(mesh=mesh, color=color, wireframe=wp)\n",
    "display_plots(plot, scale=scale, background=\"white\")"
   ]
  },
  {
   "cell_type": "markdown",
   "metadata": {},
   "source": [
    "## Xray\n",
    "The xray is a simple direct volume rendering mode with pure absorption of background light at every point in the mesh. The total absorption along a view ray behind each pixel becomes the opacity of the mesh at that point.\n",
    "The image projected to screen is then simply the background image scaled by the transparency of the mesh (transparency = 1 - opacity). It works best with a bright background since it only subtracts from existing color."
   ]
  },
  {
   "cell_type": "code",
   "execution_count": null,
   "metadata": {},
   "outputs": [],
   "source": [
    "# Try with default density (may be very dark)\n",
    "plot = ur.XrayPlot(mesh=mesh)\n",
    "display_plots(plot, scale=scale, background=\"white\")"
   ]
  },
  {
   "cell_type": "code",
   "execution_count": null,
   "metadata": {},
   "outputs": [],
   "source": [
    "# Define a constant density value\n",
    "plot = ur.XrayPlot(mesh=mesh, density=ur.ScalarConstant(value=0.15))\n",
    "display_plots(plot, scale=scale, background=\"white\")"
   ]
  },
  {
   "cell_type": "markdown",
   "metadata": {},
   "source": [
    "## Sum projection\n",
    "The sum projection is a simple direct volume rendering mode with pure emission of light at every point in the mesh. The image projected to screen is then simply the integral of emitted light along a view ray behind each pixel. It works best with a dark background because it only adds color on top."
   ]
  },
  {
   "cell_type": "code",
   "execution_count": null,
   "metadata": {},
   "outputs": [],
   "source": [
    "# With a saturated constant color the result is flat\n",
    "color = ur.ColorConstant(color=\"#ff004d\")\n",
    "plot = ur.SumPlot(mesh=mesh, color=color, exposure=0.0)\n",
    "\n",
    "# All plots can setup some widgets for their traits with plot.dashboard()\n",
    "widgets.VBox([\n",
    "    plot.dashboard(),\n",
    "    display_plots(plot, scale=scale, background=\"black\")\n",
    "])\n",
    "# Try adjusting the exposure slider!"
   ]
  },
  {
   "cell_type": "code",
   "execution_count": null,
   "metadata": {},
   "outputs": [],
   "source": [
    "# For spatially varying fields, the sum projection can quickly become incomprehensible,\n",
    "# it's probably best to stick to a single-hue color map\n",
    "lut = ur.ArrayColorMap(values=[[1,0,0], [0,0,1]])\n",
    "color = ur.ColorField(field=field, lut=lut)\n",
    "plot = ur.SumPlot(mesh=mesh, color=color, exposure=-0.0)\n",
    "display_plots(plot, scale=scale, background=\"black\")"
   ]
  },
  {
   "cell_type": "markdown",
   "metadata": {},
   "source": [
    "## Integration with ipywidgets\n",
    "Attributes of the data and plot widgets can be linked with sliders and other GUI elements from ipywidgets for some interactive control."
   ]
  },
  {
   "cell_type": "code",
   "execution_count": null,
   "metadata": {},
   "outputs": [],
   "source": [
    "# Configure some plot with scalar attributes\n",
    "density = ur.ScalarConstant(value=1.0)\n",
    "color = ur.ColorConstant(color=\"#ff00ff\")\n",
    "plot1 = ur.XrayPlot(mesh=mesh, density=density)\n",
    "plot2 = ur.SumPlot(mesh=mesh, color=color)\n",
    "\n",
    "# Note that we catch the renderer widgets here instead of displaying directly\n",
    "renderer1 = display_plots(plot1, scale=scale, width=400, height=400, background=\"white\")\n",
    "renderer2 = display_plots(plot2, scale=scale, width=400, height=400, background=\"black\")\n",
    "\n",
    "# Setup some widgets\n",
    "density_slider = widgets.FloatSlider(value=density.value, min=0.0, max=2.0, description=\"Density\")\n",
    "extinction_slider = widgets.FloatSlider(value=plot1.extinction, min=0.0, max=3.0, description=\"Extinction\")\n",
    "exposure_slider = widgets.FloatSlider(value=plot2.exposure, min=-3.0, max=3.0, description=\"Exposure\")\n",
    "color_picker = widgets.ColorPicker(value=color.color, description=\"Color\")\n",
    "\n",
    "# Link widgets to plot attributes\n",
    "widgets.jslink((density_slider, \"value\"), (plot1.density, \"value\"))\n",
    "widgets.jslink((extinction_slider, \"value\"), (plot1, \"extinction\"))\n",
    "widgets.jslink((color_picker, \"value\"), (plot2.color, \"color\"))\n",
    "widgets.jslink((exposure_slider, \"value\"), (plot2, \"exposure\"))\n",
    "\n",
    "# Group renderer with sliders for a single output\n",
    "# (this is not necessary, sliders and renderer\n",
    "# can also be in different cell outputs)\n",
    "widgets.HBox([\n",
    "    widgets.VBox([density_slider, extinction_slider, renderer1]),\n",
    "    widgets.VBox([color_picker, exposure_slider, renderer2])\n",
    "])"
   ]
  },
  {
   "cell_type": "markdown",
   "metadata": {},
   "source": [
    "Next cell shows how using plot.dashboard() simplifies the process for common cases."
   ]
  },
  {
   "cell_type": "markdown",
   "metadata": {},
   "source": [
    "### All plot types support restricting the drawing to a subset of the cells defined by an indicator field"
   ]
  },
  {
   "cell_type": "code",
   "execution_count": null,
   "metadata": {},
   "outputs": [],
   "source": [
    "# Setup an indicator field and select a random subset\n",
    "# of the cells to display in the surface plot,\n",
    "# with the remainder rendered using xray\n",
    "num_cells = cells_array.shape[0]\n",
    "indicators_array = np.zeros(num_cells, dtype=\"int32\")\n",
    "x0 = points_array[cells_array[:,0],0]  # x coordinate of first vertex in each cell\n",
    "x0min = x0.min()\n",
    "x0max = x0.max()\n",
    "x0rel = (x0 - x0min) / (x0max - x0min)\n",
    "threshold = x0min + 0.5 * (x0max - x0min)\n",
    "indicators_array[np.where(x0 > threshold)] = 1\n",
    "indicators = ur.IndicatorField(mesh=mesh, values=indicators_array)\n",
    "\n",
    "# Setup xray plot\n",
    "restrict1 = ur.ScalarIndicators(field=indicators, value=0)\n",
    "density = ur.ScalarConstant(value=1.0)\n",
    "plot1 = ur.XrayPlot(mesh=mesh, restrict=restrict1, density=density)\n",
    "\n",
    "# Setup surface plot\n",
    "restrict2 = ur.ScalarIndicators(field=indicators, value=1)\n",
    "color = ur.ColorConstant(color=\"#008888\")\n",
    "wp = ur.WireframeParams(enable=True)\n",
    "plot2 = ur.SurfacePlot(mesh=mesh, restrict=restrict2, color=color, wireframe=wp)\n",
    "\n",
    "# This time we add the plots to a single renderer\n",
    "renderer = display_plots(plot1, plot2, scale=scale, width=800, height=400, background=\"white\")\n",
    "\n",
    "# Using the plot.dashboard() function simplifies the\n",
    "# widget setup if you're happy with the defaults.\n",
    "# (The resulting widget setup is currently a bit crude)\n",
    "VBox([\n",
    "    renderer,\n",
    "    HBox([plot1.dashboard(), plot2.dashboard()])\n",
    "])"
   ]
  },
  {
   "cell_type": "code",
   "execution_count": null,
   "metadata": {},
   "outputs": [],
   "source": [
    "# Trick to refresh plots until child events are handled correctly\n",
    "plot1.visible = False\n",
    "plot2.visible = False\n",
    "plot1.visible = True\n",
    "plot2.visible = True"
   ]
  },
  {
   "cell_type": "markdown",
   "metadata": {},
   "source": [
    "## That's all!"
   ]
  }
 ],
 "metadata": {
  "kernelspec": {
   "display_name": "Python 3",
   "language": "python",
   "name": "python3"
  },
  "language_info": {
   "codemirror_mode": {
    "name": "ipython",
    "version": 3
   },
   "file_extension": ".py",
   "mimetype": "text/x-python",
   "name": "python",
   "nbconvert_exporter": "python",
   "pygments_lexer": "ipython3",
   "version": "3.5.2"
  }
 },
 "nbformat": 4,
 "nbformat_minor": 2
}
